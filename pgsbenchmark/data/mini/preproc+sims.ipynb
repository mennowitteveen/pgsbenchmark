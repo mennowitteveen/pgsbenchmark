{
 "cells": [
  {
   "cell_type": "code",
   "execution_count": null,
   "metadata": {},
   "outputs": [],
   "source": []
  },
  {
   "cell_type": "code",
   "execution_count": 1,
   "metadata": {},
   "outputs": [],
   "source": [
    "# # !pip freeze > /home/jovyan/proj/docker/jupyter-base-ds/requirements.txt\n",
    "# !pip freeze | grep -v 'mennowitteveen' > ~/proj/docker/jupyter-base-ds/requirements.txt\n",
    "# !git config --global user.email \"\" \n",
    "# !git config --global user.name  \"Menno Witteveen\"\n",
    "# !git -C /home/jovyan/proj/docker/jupyter-base-ds/ add requirements.txt\n",
    "# !git -C /home/jovyan/proj/docker/jupyter-base-ds/ status\n",
    "# !git -C /home/jovyan/proj/docker/jupyter-base-ds/ commit -m \"update req.txt\"\n"
   ]
  },
  {
   "cell_type": "code",
   "execution_count": 2,
   "metadata": {},
   "outputs": [],
   "source": [
    "# cd ~/proj/docker/jupyter-base-ds\n",
    "# docker build --rm -t mennowitteveen/my-datascience-notebook-1 ."
   ]
  },
  {
   "cell_type": "code",
   "execution_count": 3,
   "metadata": {},
   "outputs": [],
   "source": [
    "# !pwd"
   ]
  },
  {
   "cell_type": "markdown",
   "metadata": {},
   "source": [
    "# Imports"
   ]
  },
  {
   "cell_type": "code",
   "execution_count": null,
   "metadata": {},
   "outputs": [],
   "source": []
  },
  {
   "cell_type": "code",
   "execution_count": 1,
   "metadata": {},
   "outputs": [],
   "source": [
    "%config Completer.use_jedi = False\n",
    "########################################################\n",
    "## Base Imports:\n",
    "\n",
    "# Sys Imports:\n",
    "import time, sys, os\n",
    "\n",
    "# Standard Imports:\n",
    "import numpy as np\n",
    "import scipy as sp\n",
    "import pandas as pd\n",
    "import seaborn as sns\n",
    "import matplotlib.pyplot as plt\n",
    "from scipy import stats, linalg\n",
    "\n",
    "#########################################################\n",
    "## Experiment Specific Imports\n",
    "\n",
    "# Logistics Imports:\n",
    "import inspect, glob, re #pyreadr # getsource()\n",
    "import pickle, submitit, functools\n",
    "from tqdm.auto import tqdm\n",
    "from concurrent.futures import ThreadPoolExecutor, ProcessPoolExecutor\n",
    "from mjwt.tools import jobinfo, corr, implot, sizegb, psrc, beep, Timer, Struct as mStruct\n",
    "\n",
    "# ML Imports:\n",
    "from sklearn.metrics import r2_score, roc_auc_score\n",
    "from sklearn.model_selection import train_test_split, ParameterGrid\n",
    "from scipy.stats import pearsonr, spearmanr\n",
    "\n",
    "# Genomics Imports:\n",
    "import pysnptools as pst\n",
    "from pysnptools.snpreader import Bed, Pheno, SnpHdf5, SnpData\n",
    "from pysnptools.pstreader import PstData, PstHdf5, PstReader\n",
    "from lambdapred.utils import load_bimfam\n",
    "\n",
    "########################################################\n",
    "## Configuration & Initialisation\n",
    "\n",
    "# Display Configuration:\n",
    "from IPython.display import set_matplotlib_formats, display #, HTML, Audio, Javascript\n",
    "plt.rcParams['figure.figsize'] = [10, 5]\n",
    "pd.set_option('max_colwidth', 200) \n",
    "# pd.set_option('display.max_colwidth', None) # No pd trunkation (radical)\n",
    "# display(HTML(\"<style>.container { width:75% !important; }</style>\"))\n",
    "# pd.reset_option('all')\n",
    "\n",
    "# Initializations & Extensions:\n",
    "timer = Timer(); toc = timer.toc; tic = timer.tic; tic('')\n",
    "notebook = False  if '__file__' in locals() else True\n",
    "get_ipython().run_line_magic('load_ext', 'line_profiler')\n",
    "log=np.log10"
   ]
  },
  {
   "cell_type": "code",
   "execution_count": null,
   "metadata": {},
   "outputs": [],
   "source": []
  },
  {
   "cell_type": "code",
   "execution_count": null,
   "metadata": {},
   "outputs": [],
   "source": []
  },
  {
   "cell_type": "markdown",
   "metadata": {},
   "source": [
    "# Preprocessing"
   ]
  },
  {
   "cell_type": "code",
   "execution_count": 2,
   "metadata": {},
   "outputs": [],
   "source": [
    "# https://dougspeed.com/snp-subsets/ \n",
    "# https://www.dropbox.com/s/xabjdu6squ6u56r/hapmap3.snps"
   ]
  },
  {
   "cell_type": "code",
   "execution_count": 5,
   "metadata": {},
   "outputs": [],
   "source": [
    "# Preprocess hm3 snp rsid list:\n",
    "df = pd.read_csv('~/proj/data/defs/orig/hapmap3.snps', header=None, delim_whitespace=True)\n",
    "df.columns = ['snp','varinfo','A1','A2']\n",
    "assert (df['snp'].str[:2] == 'rs').mean() == 1.0 # Only rsids\n",
    "df[['chrom','pos']] = df['varinfo'].str.split(':', expand=True)\n",
    "df['cm'] = 0; df = df.astype({'pos':int, 'chrom': int})\n",
    "hm3_df = df[['chrom', 'snp', 'cm', 'pos', 'A1', 'A2']]; del df\n",
    "hm3_fn = '~/proj/data/defs/hm3.bim'\n",
    "hm3_df.to_csv(hm3_fn, sep='\\t', index=False, header=False)\n",
    "bim, fam = load_bimfam(hm3_fn, fam=False); bim\n",
    "assert (bim == hm3_df).all().all(); del bim, fam\n",
    "hm3_df['cm'] = np.nan; hm3_sid = hm3_df['snp'].values\n",
    "hm3_df = hm3_df.set_index('snp', drop=False)"
   ]
  },
  {
   "cell_type": "code",
   "execution_count": null,
   "metadata": {},
   "outputs": [],
   "source": []
  },
  {
   "cell_type": "code",
   "execution_count": 15,
   "metadata": {},
   "outputs": [
    {
     "name": "stdout",
     "output_type": "stream",
     "text": [
      "chr10.OMNI.interpolated_genetic_map\r\n",
      "chr11.OMNI.interpolated_genetic_map\r\n",
      "chr12.OMNI.interpolated_genetic_map\r\n"
     ]
    }
   ],
   "source": [
    "ls ~/proj/repos/1000-genomes-genetic-maps/interpolated_OMNI/ | head -3"
   ]
  },
  {
   "cell_type": "code",
   "execution_count": 12,
   "metadata": {},
   "outputs": [
    {
     "data": {
      "application/vnd.jupyter.widget-view+json": {
       "model_id": "47d3d00e2cfd4a229e784088a7393a9c",
       "version_major": 2,
       "version_minor": 0
      },
      "text/plain": [
       "HBox(children=(FloatProgress(value=0.0, max=22.0), HTML(value='')))"
      ]
     },
     "metadata": {},
     "output_type": "display_data"
    },
    {
     "name": "stdout",
     "output_type": "stream",
     "text": [
      "\n"
     ]
    }
   ],
   "source": [
    "# Fill the Centimorgan column based on the rsID:\n",
    "fmtfn = '/home/jovyan/proj/repos/1000-genomes-genetic-maps/interpolated_OMNI/chr*.OMNI.interpolated_genetic_map'\n",
    "# OMNI was chosen as default cause it is a CEU cM reference (default bigsnpr)\n",
    "lst = []\n",
    "for fn in tqdm(glob.glob(fmtfn)):\n",
    "    df = pd.read_csv(fn, header=None, delim_whitespace=True).set_axis(['snp','pos','cm'], 1)\n",
    "    new_df = df[df['snp'].isin(hm3_sid)]; del df\n",
    "    hm3_df.loc[new_df['snp'], 'cm'] = new_df['cm'].values\n",
    "assert hm3_df['cm'].isna().sum() == 0"
   ]
  },
  {
   "cell_type": "code",
   "execution_count": null,
   "metadata": {},
   "outputs": [],
   "source": []
  },
  {
   "cell_type": "markdown",
   "metadata": {},
   "source": [
    "# Contin"
   ]
  },
  {
   "cell_type": "code",
   "execution_count": 16,
   "metadata": {},
   "outputs": [
    {
     "name": "stdout",
     "output_type": "stream",
     "text": [
      "total 33M\r\n",
      "drwxr-xr-x  6 jovyan users  192 Feb 15 16:25 .\r\n",
      "drwxr-xr-x 12 jovyan users  384 Feb 15 14:00 ..\r\n",
      "-rw-r--r--  1 jovyan users 6.1K Feb 15 16:31 .DS_Store\r\n",
      "-rw-r--r--  1 jovyan users  32M Feb 21 14:11 hm3.bim\r\n",
      "drwxr-xr-x  3 jovyan users   96 Feb 14 12:20 orig\r\n",
      "drwxr-xr-x  8 jovyan users  256 Oct 13  2021 regdef\r\n"
     ]
    }
   ],
   "source": [
    "!ls -lah ~/proj/data/defs/"
   ]
  },
  {
   "cell_type": "code",
   "execution_count": 18,
   "metadata": {},
   "outputs": [
    {
     "data": {
      "text/html": [
       "<div>\n",
       "<style scoped>\n",
       "    .dataframe tbody tr th:only-of-type {\n",
       "        vertical-align: middle;\n",
       "    }\n",
       "\n",
       "    .dataframe tbody tr th {\n",
       "        vertical-align: top;\n",
       "    }\n",
       "\n",
       "    .dataframe thead th {\n",
       "        text-align: right;\n",
       "    }\n",
       "</style>\n",
       "<table border=\"1\" class=\"dataframe\">\n",
       "  <thead>\n",
       "    <tr style=\"text-align: right;\">\n",
       "      <th></th>\n",
       "      <th>chrom</th>\n",
       "      <th>snp</th>\n",
       "      <th>cm</th>\n",
       "      <th>pos</th>\n",
       "      <th>A1</th>\n",
       "      <th>A2</th>\n",
       "    </tr>\n",
       "    <tr>\n",
       "      <th>snp</th>\n",
       "      <th></th>\n",
       "      <th></th>\n",
       "      <th></th>\n",
       "      <th></th>\n",
       "      <th></th>\n",
       "      <th></th>\n",
       "    </tr>\n",
       "  </thead>\n",
       "  <tbody>\n",
       "    <tr>\n",
       "      <th>rs469863</th>\n",
       "      <td>21</td>\n",
       "      <td>rs469863</td>\n",
       "      <td>0.000000</td>\n",
       "      <td>10992232</td>\n",
       "      <td>G</td>\n",
       "      <td>A</td>\n",
       "    </tr>\n",
       "    <tr>\n",
       "      <th>rs3965725</th>\n",
       "      <td>21</td>\n",
       "      <td>rs3965725</td>\n",
       "      <td>0.000000</td>\n",
       "      <td>14597009</td>\n",
       "      <td>C</td>\n",
       "      <td>A</td>\n",
       "    </tr>\n",
       "    <tr>\n",
       "      <th>rs2775537</th>\n",
       "      <td>21</td>\n",
       "      <td>rs2775537</td>\n",
       "      <td>0.000000</td>\n",
       "      <td>14601415</td>\n",
       "      <td>A</td>\n",
       "      <td>G</td>\n",
       "    </tr>\n",
       "    <tr>\n",
       "      <th>rs2261645</th>\n",
       "      <td>21</td>\n",
       "      <td>rs2261645</td>\n",
       "      <td>0.000000</td>\n",
       "      <td>14630588</td>\n",
       "      <td>A</td>\n",
       "      <td>G</td>\n",
       "    </tr>\n",
       "    <tr>\n",
       "      <th>rs2742158</th>\n",
       "      <td>21</td>\n",
       "      <td>rs2742158</td>\n",
       "      <td>0.000000</td>\n",
       "      <td>14638916</td>\n",
       "      <td>T</td>\n",
       "      <td>C</td>\n",
       "    </tr>\n",
       "    <tr>\n",
       "      <th>...</th>\n",
       "      <td>...</td>\n",
       "      <td>...</td>\n",
       "      <td>...</td>\n",
       "      <td>...</td>\n",
       "      <td>...</td>\n",
       "      <td>...</td>\n",
       "    </tr>\n",
       "    <tr>\n",
       "      <th>rs2330555</th>\n",
       "      <td>22</td>\n",
       "      <td>rs2330555</td>\n",
       "      <td>10.752404</td>\n",
       "      <td>24013288</td>\n",
       "      <td>G</td>\n",
       "      <td>A</td>\n",
       "    </tr>\n",
       "    <tr>\n",
       "      <th>rs12157657</th>\n",
       "      <td>22</td>\n",
       "      <td>rs12157657</td>\n",
       "      <td>10.752412</td>\n",
       "      <td>24014229</td>\n",
       "      <td>T</td>\n",
       "      <td>C</td>\n",
       "    </tr>\n",
       "    <tr>\n",
       "      <th>rs1109403</th>\n",
       "      <td>22</td>\n",
       "      <td>rs1109403</td>\n",
       "      <td>10.752429</td>\n",
       "      <td>24016138</td>\n",
       "      <td>A</td>\n",
       "      <td>G</td>\n",
       "    </tr>\n",
       "    <tr>\n",
       "      <th>rs10427834</th>\n",
       "      <td>22</td>\n",
       "      <td>rs10427834</td>\n",
       "      <td>10.752467</td>\n",
       "      <td>24020575</td>\n",
       "      <td>C</td>\n",
       "      <td>T</td>\n",
       "    </tr>\n",
       "    <tr>\n",
       "      <th>rs5751708</th>\n",
       "      <td>22</td>\n",
       "      <td>rs5751708</td>\n",
       "      <td>10.752482</td>\n",
       "      <td>24022307</td>\n",
       "      <td>G</td>\n",
       "      <td>A</td>\n",
       "    </tr>\n",
       "  </tbody>\n",
       "</table>\n",
       "<p>6000 rows × 6 columns</p>\n",
       "</div>"
      ],
      "text/plain": [
       "            chrom         snp         cm       pos A1 A2\n",
       "snp                                                     \n",
       "rs469863       21    rs469863   0.000000  10992232  G  A\n",
       "rs3965725      21   rs3965725   0.000000  14597009  C  A\n",
       "rs2775537      21   rs2775537   0.000000  14601415  A  G\n",
       "rs2261645      21   rs2261645   0.000000  14630588  A  G\n",
       "rs2742158      21   rs2742158   0.000000  14638916  T  C\n",
       "...           ...         ...        ...       ... .. ..\n",
       "rs2330555      22   rs2330555  10.752404  24013288  G  A\n",
       "rs12157657     22  rs12157657  10.752412  24014229  T  C\n",
       "rs1109403      22   rs1109403  10.752429  24016138  A  G\n",
       "rs10427834     22  rs10427834  10.752467  24020575  C  T\n",
       "rs5751708      22   rs5751708  10.752482  24022307  G  A\n",
       "\n",
       "[6000 rows x 6 columns]"
      ]
     },
     "execution_count": 18,
     "metadata": {},
     "output_type": "execute_result"
    }
   ],
   "source": [
    "def fun(arg):\n",
    "    return arg.iloc[:3000]\n",
    "# df.groupby('chrom', as_index=False, group_keys=False).apply(fun)\n",
    "sel_df = hm3_df[hm3_df.chrom.isin((21,22))]\n",
    "# df = df.sample(2000, random_state=42).sort_index()\n",
    "sel_df = sel_df.groupby('chrom', group_keys=False).apply(fun); sel_df"
   ]
  },
  {
   "cell_type": "code",
   "execution_count": 19,
   "metadata": {},
   "outputs": [
    {
     "name": "stdout",
     "output_type": "stream",
     "text": [
      "22665064 /home/jovyan/proj/data/g1000/g1000_eur.bim\r\n"
     ]
    }
   ],
   "source": [
    "!wc -l /home/jovyan/proj/data/g1000/*.bim"
   ]
  },
  {
   "cell_type": "code",
   "execution_count": 20,
   "metadata": {},
   "outputs": [
    {
     "name": "stdout",
     "output_type": "stream",
     "text": [
      "mkdir: cannot create directory ‘/home/jovyan/proj/data/mini/’: File exists\n",
      "rs469863\n",
      "rs3965725\n",
      "rs2775537\n",
      "rs2261645\n",
      "rs2742158\n"
     ]
    }
   ],
   "source": [
    "mini_dn = '~/proj/data/mini/'\n",
    "!mkdir {mini_dn}\n",
    "minisnps_fn = mini_dn+'rsid-list.txt'\n",
    "sel_df['snp'].to_csv(minisnps_fn, header=False,index=False)\n",
    "!head -5 {minisnps_fn}"
   ]
  },
  {
   "cell_type": "code",
   "execution_count": null,
   "metadata": {},
   "outputs": [],
   "source": []
  },
  {
   "cell_type": "code",
   "execution_count": 60,
   "metadata": {},
   "outputs": [
    {
     "name": "stdout",
     "output_type": "stream",
     "text": [
      "PLINK v1.90b7 64-bit (16 Jan 2023)             www.cog-genomics.org/plink/1.9/\n",
      "(C) 2005-2023 Shaun Purcell, Christopher Chang   GNU General Public License v3\n",
      "Logging to /home/jovyan/proj/data/mini/mini.log.\n",
      "Options in effect:\n",
      "  --bfile /home/jovyan/proj/data/g1000/g1000_eur\n",
      "  --extract /home/jovyan/proj/data/mini/rsid-list.txt\n",
      "  --maf 0.1\n",
      "  --make-bed\n",
      "  --out /home/jovyan/proj/data/mini/mini\n",
      "\n",
      "3934 MB RAM detected; reserving 1967 MB for main workspace.\n",
      "22665064 variants loaded from .bim file.\n",
      "503 people (240 males, 263 females) loaded from .fam.\n",
      "--extract: 6000 variants remaining.\n",
      "Using 1 thread (no multithreaded calculations invoked).\n",
      "Before main variant filters, 503 founders and 0 nonfounders present.\n",
      "Calculating allele frequencies... 10111213141516171819202122232425262728293031323334353637383940414243444546474849505152535455565758596061626364656667686970717273747576777879808182838485868788899091929394959697989 done.\n",
      "Total genotyping rate is in [0.9999995, 1).\n",
      "1302 variants removed due to minor allele threshold(s)\n",
      "(--maf/--max-maf/--mac/--max-mac).\n",
      "4698 variants and 503 people pass filters and QC.\n",
      "Note: No phenotypes present.\n",
      "--make-bed to /home/jovyan/proj/data/mini/mini.bed +\n",
      "/home/jovyan/proj/data/mini/mini.bim + /home/jovyan/proj/data/mini/mini.fam ...\n",
      "101112131415161718192021222324252627282930313233343536373839404142434445464748495051525354555657585960616263646566676869707172737475767778798081828384858687888990919293949596979899done.\n"
     ]
    }
   ],
   "source": [
    "g1k_fn  = '~/proj/data/g1000/g1000_eur'\n",
    "mini_fn = mini_dn + 'mini'\n",
    "!plink --bfile {g1k_fn} --extract {minisnps_fn} --maf 0.1 --make-bed --out {mini_fn}"
   ]
  },
  {
   "cell_type": "code",
   "execution_count": 61,
   "metadata": {},
   "outputs": [
    {
     "name": "stdout",
     "output_type": "stream",
     "text": [
      "21\trs3965725\t0\t14597009\tC\tA\n",
      "21\trs2775537\t0\t14601415\tA\tG\n",
      "21\trs2261645\t0\t14630588\tA\tG\n",
      "----------------\n",
      "22\trs1109403\t0\t24016138\tA\tG\n",
      "22\trs10427834\t0\t24020575\tC\tT\n",
      "22\trs5751708\t0\t24022307\tG\tA\n"
     ]
    }
   ],
   "source": [
    "!head -3 {mini_fn+'.bim'}\n",
    "print('----------------')\n",
    "!tail -3 {mini_fn+'.bim'}"
   ]
  },
  {
   "cell_type": "code",
   "execution_count": null,
   "metadata": {},
   "outputs": [],
   "source": []
  },
  {
   "cell_type": "code",
   "execution_count": 62,
   "metadata": {},
   "outputs": [],
   "source": [
    "# Load bim dataframe and merge cM into it:\n",
    "bim_df, _ = load_bimfam(mini_fn)\n",
    "bim_df = bim_df.set_index('snp', drop=False)\n",
    "bim_df['cm'] = np.nan\n",
    "bim_df['cm'] = hm3_df.loc[bim_df['snp'],'cm']\n",
    "assert bim_df.cm.isna().sum() == 0\n",
    "\n",
    "# Save new bim file:\n",
    "fn = mini_fn+'.bim'\n",
    "!mv {fn} {fn+'.orig'}\n",
    "bim_df.to_csv(fn, sep='\\t', header=None, index=False)"
   ]
  },
  {
   "cell_type": "code",
   "execution_count": null,
   "metadata": {},
   "outputs": [],
   "source": []
  },
  {
   "cell_type": "code",
   "execution_count": 63,
   "metadata": {},
   "outputs": [
    {
     "name": "stdout",
     "output_type": "stream",
     "text": [
      "21\trs3965725\t0.0\t14597009\tC\tA\n",
      "21\trs2775537\t0.0\t14601415\tA\tG\n",
      "21\trs2261645\t0.0\t14630588\tA\tG\n",
      "----------------\n",
      "22\trs1109403\t10.752428835999998\t24016138\tA\tG\n",
      "22\trs10427834\t10.7524668702\t24020575\tC\tT\n",
      "22\trs5751708\t10.7524817169\t24022307\tG\tA\n"
     ]
    }
   ],
   "source": [
    "!head -3 {mini_fn+'.bim'}\n",
    "print('----------------')\n",
    "!tail -3 {mini_fn+'.bim'}"
   ]
  },
  {
   "cell_type": "code",
   "execution_count": null,
   "metadata": {},
   "outputs": [],
   "source": []
  },
  {
   "cell_type": "code",
   "execution_count": null,
   "metadata": {},
   "outputs": [],
   "source": []
  },
  {
   "cell_type": "code",
   "execution_count": null,
   "metadata": {},
   "outputs": [],
   "source": []
  },
  {
   "cell_type": "markdown",
   "metadata": {},
   "source": [
    "# Sims"
   ]
  },
  {
   "cell_type": "code",
   "execution_count": null,
   "metadata": {},
   "outputs": [],
   "source": []
  },
  {
   "cell_type": "markdown",
   "metadata": {},
   "source": [
    "## Data Loading and prelim tests:"
   ]
  },
  {
   "cell_type": "code",
   "execution_count": 9,
   "metadata": {},
   "outputs": [],
   "source": [
    "# psrc(load_bimfam)"
   ]
  },
  {
   "cell_type": "code",
   "execution_count": 64,
   "metadata": {},
   "outputs": [
    {
     "name": "stderr",
     "output_type": "stream",
     "text": [
      "/home/jovyan/proj/repos/pgsbenchmark/pgsbenchmark/loaders.py:122: UserWarning: No 'beta_mrg' column detected in sst_df! This means that no summary stats were detected.\n",
      "  warnings.warn('No \\'beta_mrg\\' column detected in sst_df! This means that no summary stats were detected.')\n"
     ]
    },
    {
     "data": {
      "image/png": "[encoded data removed]",
      "text/plain": [
       "<Figure size 720x360 with 4 Axes>"
      ]
     },
     "metadata": {
      "needs_background": "light"
     },
     "output_type": "display_data"
    }
   ],
   "source": [
    "%run -i ~/proj/repos/pgsbenchmark/pgsbenchmark/loaders.py\n",
    "\n",
    "# very naughty improper python line to correct filenames (insert full path in place of '~'):\n",
    "locals().update({varname: os.path.expanduser(var) for varname, var in locals().items() if (type(var) is str) and (varname[-3:] == '_fn')})\n",
    "srd = Bed(mini_fn, count_A1=True); sda = srd.read()\n",
    "regdef_df = pd.read_csv('~/proj/data/defs/regdef/regions_1blk_shift=0.regdef.tsv', delimiter='\\t') \n",
    "bim_df, fam_df = load_bimfam(mini_fn)\n",
    "link = LinkageData(sst_df=bim_df, regdef_df=regdef_df, srd=srd)\n",
    "pd.DataFrame.from_dict({cnt: np.sum(sda.val == cnt, axis=0) for cnt in [0,1,2]}).hist()\n",
    "\n",
    "# Standardize things:\n",
    "sda, stansda = sda.standardize(return_trained=True) #, standardizer=stansdainit)\n",
    "sim_sda = sda"
   ]
  },
  {
   "cell_type": "code",
   "execution_count": null,
   "metadata": {},
   "outputs": [],
   "source": []
  },
  {
   "cell_type": "markdown",
   "metadata": {},
   "source": [
    "## Simulate Genetic Effects & Phenotypes"
   ]
  },
  {
   "cell_type": "code",
   "execution_count": null,
   "metadata": {},
   "outputs": [],
   "source": []
  },
  {
   "cell_type": "code",
   "execution_count": 65,
   "metadata": {},
   "outputs": [],
   "source": [
    "random_state = 42\n",
    "h2 = 0.4 # Proportion of variance explained by genetics\n",
    "y_var = 1.0\n",
    "p_causal = 0.02 # probability of being 'causal'\n",
    "n_snps = len(sim_sda.sid)\n",
    "n_samps = len(sim_sda.iid)\n",
    "scaleffects_df = pd.DataFrame(index=pd.Index(sim_sda.sid,name='snp'))\n",
    "index = pd.MultiIndex.from_arrays(sim_sda.iid.copy().T, names=['FID','IID'])\n",
    "pheno_df   = pd.DataFrame(index=index)\n",
    "X = sim_sda.val\n",
    "\n",
    "# Laplace\n",
    "# spike slab\n",
    "# ridge\n",
    "# fut: PRS-CS"
   ]
  },
  {
   "cell_type": "code",
   "execution_count": null,
   "metadata": {},
   "outputs": [],
   "source": []
  },
  {
   "cell_type": "code",
   "execution_count": null,
   "metadata": {},
   "outputs": [],
   "source": []
  },
  {
   "cell_type": "code",
   "execution_count": 66,
   "metadata": {},
   "outputs": [
    {
     "name": "stdout",
     "output_type": "stream",
     "text": [
      "0.412432983074941\n",
      "0.9842875981708776\n"
     ]
    }
   ],
   "source": [
    "## Spike & Slab:\n",
    "np.random.seed(random_state+7)\n",
    "n_causal = int(np.ceil(p_causal*n_snps))\n",
    "rand_sel = np.random.permutation(n_snps)[:n_causal]\n",
    "w           = np.zeros(n_snps)\n",
    "w[rand_sel] = np.random.randn(n_causal)*np.sqrt(h2/n_causal)\n",
    "scaleffects_df['spike_slab'] = w\n",
    "Xw = X.dot(w)\n",
    "e  = np.random.randn(n_samps)*np.sqrt(1-h2)\n",
    "y  = Xw + e\n",
    "pheno_df['spike_slab'] = y\n",
    "\n",
    "print(Xw.var()) # should be equal to h2, if y_var = 1.0\n",
    "print(y.std())"
   ]
  },
  {
   "cell_type": "code",
   "execution_count": null,
   "metadata": {},
   "outputs": [],
   "source": []
  },
  {
   "cell_type": "code",
   "execution_count": null,
   "metadata": {},
   "outputs": [],
   "source": []
  },
  {
   "cell_type": "code",
   "execution_count": 67,
   "metadata": {},
   "outputs": [
    {
     "name": "stdout",
     "output_type": "stream",
     "text": [
      "0.3752758106701261\n",
      "1.0210696274295905\n"
     ]
    }
   ],
   "source": [
    "## Laplace:\n",
    "np.random.seed(random_state+8)\n",
    "w = np.random.laplace(0,1,n_snps)*np.sqrt(0.5*h2/n_snps)\n",
    "scaleffects_df['laplace'] = w\n",
    "Xw = X.dot(w)\n",
    "e  = np.random.randn(n_samps)*np.sqrt(1-h2)\n",
    "y  = Xw + e\n",
    "pheno_df['laplace'] = y\n",
    "print(Xw.var()) # should be equal to h2, if y_var = 1.0\n",
    "print(y.std())"
   ]
  },
  {
   "cell_type": "code",
   "execution_count": null,
   "metadata": {},
   "outputs": [],
   "source": []
  },
  {
   "cell_type": "code",
   "execution_count": 68,
   "metadata": {},
   "outputs": [
    {
     "name": "stdout",
     "output_type": "stream",
     "text": [
      "0.37773541974878716\n",
      "1.0013016597016546\n"
     ]
    }
   ],
   "source": [
    "## Ridge:\n",
    "np.random.seed(random_state+9)\n",
    "w = np.random.randn(n_snps)*np.sqrt(h2/n_snps)\n",
    "scaleffects_df['ridge'] = w\n",
    "Xw = X.dot(w)\n",
    "e  = np.random.randn(n_samps)*np.sqrt(1-h2)\n",
    "y  = Xw + e\n",
    "pheno_df['ridge'] = y\n",
    "print(Xw.var()) # should be equal to h2, if y_var = 1.0\n",
    "print(y.std())"
   ]
  },
  {
   "cell_type": "code",
   "execution_count": null,
   "metadata": {},
   "outputs": [],
   "source": []
  },
  {
   "cell_type": "code",
   "execution_count": 69,
   "metadata": {},
   "outputs": [
    {
     "data": {
      "text/html": [
       "<div>\n",
       "<style scoped>\n",
       "    .dataframe tbody tr th:only-of-type {\n",
       "        vertical-align: middle;\n",
       "    }\n",
       "\n",
       "    .dataframe tbody tr th {\n",
       "        vertical-align: top;\n",
       "    }\n",
       "\n",
       "    .dataframe thead th {\n",
       "        text-align: right;\n",
       "    }\n",
       "</style>\n",
       "<table border=\"1\" class=\"dataframe\">\n",
       "  <thead>\n",
       "    <tr style=\"text-align: right;\">\n",
       "      <th></th>\n",
       "      <th></th>\n",
       "      <th>spike_slab</th>\n",
       "      <th>laplace</th>\n",
       "      <th>ridge</th>\n",
       "    </tr>\n",
       "    <tr>\n",
       "      <th>FID</th>\n",
       "      <th>IID</th>\n",
       "      <th></th>\n",
       "      <th></th>\n",
       "      <th></th>\n",
       "    </tr>\n",
       "  </thead>\n",
       "  <tbody>\n",
       "    <tr>\n",
       "      <th>HG00096</th>\n",
       "      <th>HG00096</th>\n",
       "      <td>0.691116</td>\n",
       "      <td>0.277061</td>\n",
       "      <td>-1.373948</td>\n",
       "    </tr>\n",
       "    <tr>\n",
       "      <th>HG00097</th>\n",
       "      <th>HG00097</th>\n",
       "      <td>-1.235755</td>\n",
       "      <td>0.716184</td>\n",
       "      <td>0.374566</td>\n",
       "    </tr>\n",
       "    <tr>\n",
       "      <th>HG00099</th>\n",
       "      <th>HG00099</th>\n",
       "      <td>-0.457048</td>\n",
       "      <td>-0.059474</td>\n",
       "      <td>0.111392</td>\n",
       "    </tr>\n",
       "    <tr>\n",
       "      <th>HG00100</th>\n",
       "      <th>HG00100</th>\n",
       "      <td>-0.195454</td>\n",
       "      <td>0.919349</td>\n",
       "      <td>-1.044286</td>\n",
       "    </tr>\n",
       "    <tr>\n",
       "      <th>HG00101</th>\n",
       "      <th>HG00101</th>\n",
       "      <td>0.482814</td>\n",
       "      <td>0.723345</td>\n",
       "      <td>0.527562</td>\n",
       "    </tr>\n",
       "  </tbody>\n",
       "</table>\n",
       "</div>"
      ],
      "text/plain": [
       "                 spike_slab   laplace     ridge\n",
       "FID     IID                                    \n",
       "HG00096 HG00096    0.691116  0.277061 -1.373948\n",
       "HG00097 HG00097   -1.235755  0.716184  0.374566\n",
       "HG00099 HG00099   -0.457048 -0.059474  0.111392\n",
       "HG00100 HG00100   -0.195454  0.919349 -1.044286\n",
       "HG00101 HG00101    0.482814  0.723345  0.527562"
      ]
     },
     "metadata": {},
     "output_type": "display_data"
    },
    {
     "data": {
      "text/html": [
       "<div>\n",
       "<style scoped>\n",
       "    .dataframe tbody tr th:only-of-type {\n",
       "        vertical-align: middle;\n",
       "    }\n",
       "\n",
       "    .dataframe tbody tr th {\n",
       "        vertical-align: top;\n",
       "    }\n",
       "\n",
       "    .dataframe thead th {\n",
       "        text-align: right;\n",
       "    }\n",
       "</style>\n",
       "<table border=\"1\" class=\"dataframe\">\n",
       "  <thead>\n",
       "    <tr style=\"text-align: right;\">\n",
       "      <th></th>\n",
       "      <th>spike_slab</th>\n",
       "      <th>laplace</th>\n",
       "      <th>ridge</th>\n",
       "    </tr>\n",
       "    <tr>\n",
       "      <th>snp</th>\n",
       "      <th></th>\n",
       "      <th></th>\n",
       "      <th></th>\n",
       "    </tr>\n",
       "  </thead>\n",
       "  <tbody>\n",
       "    <tr>\n",
       "      <th>rs3965725</th>\n",
       "      <td>0.0</td>\n",
       "      <td>-0.000104</td>\n",
       "      <td>-0.003937</td>\n",
       "    </tr>\n",
       "    <tr>\n",
       "      <th>rs2775537</th>\n",
       "      <td>0.0</td>\n",
       "      <td>-0.007287</td>\n",
       "      <td>0.001472</td>\n",
       "    </tr>\n",
       "    <tr>\n",
       "      <th>rs2261645</th>\n",
       "      <td>0.0</td>\n",
       "      <td>-0.006313</td>\n",
       "      <td>0.016632</td>\n",
       "    </tr>\n",
       "    <tr>\n",
       "      <th>rs2742158</th>\n",
       "      <td>0.0</td>\n",
       "      <td>-0.002188</td>\n",
       "      <td>-0.018126</td>\n",
       "    </tr>\n",
       "    <tr>\n",
       "      <th>rs2260810</th>\n",
       "      <td>0.0</td>\n",
       "      <td>-0.002647</td>\n",
       "      <td>0.001329</td>\n",
       "    </tr>\n",
       "  </tbody>\n",
       "</table>\n",
       "</div>"
      ],
      "text/plain": [
       "           spike_slab   laplace     ridge\n",
       "snp                                      \n",
       "rs3965725         0.0 -0.000104 -0.003937\n",
       "rs2775537         0.0 -0.007287  0.001472\n",
       "rs2261645         0.0 -0.006313  0.016632\n",
       "rs2742158         0.0 -0.002188 -0.018126\n",
       "rs2260810         0.0 -0.002647  0.001329"
      ]
     },
     "metadata": {},
     "output_type": "display_data"
    }
   ],
   "source": [
    "# oldeffects_df = effects_df.copy()\n",
    "effects_df = scaleffects_df/stansda.stats[:,[1]]\n",
    "\n",
    "# Store effects & phenotypes:\n",
    "effects_df.to_csv('effects_df.csv')\n",
    "pheno_df.to_csv('pheno_df.csv')\n",
    "df = pd.read_csv('pheno_df.csv').set_index(['FID','IID']); display(df.head())\n",
    "df = pd.read_csv('effects_df.csv').set_index(['snp']); display(df.head())"
   ]
  },
  {
   "cell_type": "code",
   "execution_count": null,
   "metadata": {},
   "outputs": [],
   "source": []
  },
  {
   "cell_type": "markdown",
   "metadata": {},
   "source": [
    "## Tests 4 Allele Scaling of Effects"
   ]
  },
  {
   "cell_type": "code",
   "execution_count": null,
   "metadata": {},
   "outputs": [],
   "source": []
  },
  {
   "cell_type": "code",
   "execution_count": 77,
   "metadata": {},
   "outputs": [
    {
     "data": {
      "text/html": [
       "<div>\n",
       "<style scoped>\n",
       "    .dataframe tbody tr th:only-of-type {\n",
       "        vertical-align: middle;\n",
       "    }\n",
       "\n",
       "    .dataframe tbody tr th {\n",
       "        vertical-align: top;\n",
       "    }\n",
       "\n",
       "    .dataframe thead th {\n",
       "        text-align: right;\n",
       "    }\n",
       "</style>\n",
       "<table border=\"1\" class=\"dataframe\">\n",
       "  <thead>\n",
       "    <tr style=\"text-align: right;\">\n",
       "      <th></th>\n",
       "      <th>spike_slab</th>\n",
       "      <th>laplace</th>\n",
       "      <th>ridge</th>\n",
       "    </tr>\n",
       "  </thead>\n",
       "  <tbody>\n",
       "    <tr>\n",
       "      <th>spike_slab</th>\n",
       "      <td>0.619836</td>\n",
       "      <td>0.072870</td>\n",
       "      <td>0.080358</td>\n",
       "    </tr>\n",
       "    <tr>\n",
       "      <th>laplace</th>\n",
       "      <td>0.119467</td>\n",
       "      <td>0.633979</td>\n",
       "      <td>0.068332</td>\n",
       "    </tr>\n",
       "    <tr>\n",
       "      <th>ridge</th>\n",
       "      <td>0.074576</td>\n",
       "      <td>0.023014</td>\n",
       "      <td>0.642320</td>\n",
       "    </tr>\n",
       "  </tbody>\n",
       "</table>\n",
       "</div>"
      ],
      "text/plain": [
       "            spike_slab   laplace     ridge\n",
       "spike_slab    0.619836  0.072870  0.080358\n",
       "laplace       0.119467  0.633979  0.068332\n",
       "ridge         0.074576  0.023014  0.642320"
      ]
     },
     "metadata": {},
     "output_type": "display_data"
    },
    {
     "name": "stdout",
     "output_type": "stream",
     "text": [
      "0.6423195870754093\n",
      "0.6423195870754088\n",
      "(1.0, 0.0)\n"
     ]
    },
    {
     "data": {
      "text/html": [
       "<div>\n",
       "<style scoped>\n",
       "    .dataframe tbody tr th:only-of-type {\n",
       "        vertical-align: middle;\n",
       "    }\n",
       "\n",
       "    .dataframe tbody tr th {\n",
       "        vertical-align: top;\n",
       "    }\n",
       "\n",
       "    .dataframe thead th {\n",
       "        text-align: right;\n",
       "    }\n",
       "</style>\n",
       "<table border=\"1\" class=\"dataframe\">\n",
       "  <thead>\n",
       "    <tr style=\"text-align: right;\">\n",
       "      <th></th>\n",
       "      <th>spike_slab</th>\n",
       "      <th>laplace</th>\n",
       "      <th>ridge</th>\n",
       "    </tr>\n",
       "  </thead>\n",
       "  <tbody>\n",
       "    <tr>\n",
       "      <th>spike_slab</th>\n",
       "      <td>1.000000</td>\n",
       "      <td>0.164016</td>\n",
       "      <td>0.105696</td>\n",
       "    </tr>\n",
       "    <tr>\n",
       "      <th>laplace</th>\n",
       "      <td>0.164016</td>\n",
       "      <td>1.000000</td>\n",
       "      <td>0.046405</td>\n",
       "    </tr>\n",
       "    <tr>\n",
       "      <th>ridge</th>\n",
       "      <td>0.105696</td>\n",
       "      <td>0.046405</td>\n",
       "      <td>1.000000</td>\n",
       "    </tr>\n",
       "  </tbody>\n",
       "</table>\n",
       "</div>"
      ],
      "text/plain": [
       "            spike_slab   laplace     ridge\n",
       "spike_slab    1.000000  0.164016  0.105696\n",
       "laplace       0.164016  1.000000  0.046405\n",
       "ridge         0.105696  0.046405  1.000000"
      ]
     },
     "metadata": {},
     "output_type": "display_data"
    },
    {
     "name": "stdout",
     "output_type": "stream",
     "text": [
      "(1.0, 0.0)\n",
      "(1.0, 0.0)\n",
      "(1.0, 0.0)\n"
     ]
    }
   ],
   "source": [
    "Y = X@scaleffects_df\n",
    "df = corr(pheno_df,Y); display(df)\n",
    "print(df.iloc[-1,-1])\n",
    "print(pearsonr(Xw, y)[0])\n",
    "print(pearsonr(Y['ridge'],Xw))\n",
    "\n",
    "int_sda = srd.read() #dtype='int8', _require_float32_64=False)\n",
    "mod_df = scaleffects_df/stansda.stats[:,[1]]\n",
    "Ys = int_sda.val@mod_df\n",
    "display(corr(Y,Ys))\n",
    "\n",
    "for col in Y.columns:\n",
    "    print(pearsonr(Y[col],Ys[col])) # <- perfect correlation!"
   ]
  },
  {
   "cell_type": "code",
   "execution_count": 78,
   "metadata": {},
   "outputs": [
    {
     "data": {
      "text/plain": [
       "spike_slab   -4.414406e-18\n",
       "laplace       1.032971e-16\n",
       "ridge         6.433996e-17\n",
       "dtype: float64"
      ]
     },
     "execution_count": 78,
     "metadata": {},
     "output_type": "execute_result"
    }
   ],
   "source": [
    "Y.mean()"
   ]
  },
  {
   "cell_type": "code",
   "execution_count": 79,
   "metadata": {},
   "outputs": [
    {
     "data": {
      "text/plain": [
       "spike_slab    0.486368\n",
       "laplace       0.572479\n",
       "ridge        -0.507791\n",
       "dtype: float64"
      ]
     },
     "execution_count": 79,
     "metadata": {},
     "output_type": "execute_result"
    }
   ],
   "source": [
    "# Mind there is an offset now, but this will not matter for many cases.\n",
    "Ys.mean()"
   ]
  },
  {
   "cell_type": "code",
   "execution_count": 80,
   "metadata": {},
   "outputs": [
    {
     "data": {
      "text/plain": [
       "spike_slab    0.413255\n",
       "laplace       0.376023\n",
       "ridge         0.378488\n",
       "dtype: float64"
      ]
     },
     "execution_count": 80,
     "metadata": {},
     "output_type": "execute_result"
    }
   ],
   "source": [
    "Y.var()"
   ]
  },
  {
   "cell_type": "code",
   "execution_count": 81,
   "metadata": {},
   "outputs": [
    {
     "data": {
      "text/plain": [
       "spike_slab    0.413255\n",
       "laplace       0.376023\n",
       "ridge         0.378488\n",
       "dtype: float64"
      ]
     },
     "execution_count": 81,
     "metadata": {},
     "output_type": "execute_result"
    }
   ],
   "source": [
    "# But the variances are the same!\n",
    "Ys.var()"
   ]
  },
  {
   "cell_type": "code",
   "execution_count": null,
   "metadata": {},
   "outputs": [],
   "source": []
  },
  {
   "cell_type": "code",
   "execution_count": null,
   "metadata": {},
   "outputs": [],
   "source": []
  },
  {
   "cell_type": "markdown",
   "metadata": {},
   "source": [
    "# Plotting of Allele Frequency Distributions:"
   ]
  },
  {
   "cell_type": "code",
   "execution_count": null,
   "metadata": {},
   "outputs": [],
   "source": []
  },
  {
   "cell_type": "code",
   "execution_count": 290,
   "metadata": {},
   "outputs": [
    {
     "data": {
      "image/png": "[encoded data removed]",
      "text/plain": [
       "<Figure size 720x360 with 1 Axes>"
      ]
     },
     "metadata": {
      "needs_background": "light"
     },
     "output_type": "display_data"
    }
   ],
   "source": [
    "# Load data in int8 format and look at the non-standardized distribution of the features:\n",
    "int8_sda = srd.read(dtype='int8', _require_float32_64=False)\n",
    "\n",
    "# This gives a bit of perspective on the 0,1,2 prevalencies in the real data:\n",
    "plt.hist(np.mean(int8_sda.val==0, axis=0),bins=50,color='r');\n",
    "plt.hist(np.mean(int8_sda.val==1, axis=0),bins=50,color='g');\n",
    "plt.hist(np.mean(int8_sda.val==2, axis=0),bins=50,color='b');\n",
    "plt.legend(labels=['0','1','2']); plt.title('Distribution of the 0,1,2 allele counts'); plt.show()"
   ]
  },
  {
   "cell_type": "code",
   "execution_count": null,
   "metadata": {},
   "outputs": [],
   "source": []
  },
  {
   "cell_type": "code",
   "execution_count": 291,
   "metadata": {},
   "outputs": [
    {
     "data": {
      "image/png": "[encoded data removed]",
      "text/plain": [
       "<Figure size 720x360 with 1 Axes>"
      ]
     },
     "metadata": {
      "needs_background": "light"
     },
     "output_type": "display_data"
    }
   ],
   "source": [
    "assert (int8_sda.val.min() == 0) and (int8_sda.val.max() == 2)\n",
    "plt.hist(int8_sda.val.sum(axis=0)/(2*int8_sda.shape[0]), bins=50); plt.title('Distribution of MAF, with expected drop-off @ 0.1'); "
   ]
  },
  {
   "cell_type": "code",
   "execution_count": null,
   "metadata": {},
   "outputs": [],
   "source": []
  },
  {
   "cell_type": "code",
   "execution_count": 282,
   "metadata": {},
   "outputs": [],
   "source": [
    "# psrc(implot)"
   ]
  },
  {
   "cell_type": "code",
   "execution_count": null,
   "metadata": {},
   "outputs": [],
   "source": []
  },
  {
   "cell_type": "code",
   "execution_count": null,
   "metadata": {},
   "outputs": [],
   "source": []
  },
  {
   "cell_type": "code",
   "execution_count": null,
   "metadata": {},
   "outputs": [],
   "source": []
  },
  {
   "cell_type": "code",
   "execution_count": null,
   "metadata": {},
   "outputs": [],
   "source": []
  },
  {
   "cell_type": "code",
   "execution_count": null,
   "metadata": {},
   "outputs": [],
   "source": []
  },
  {
   "cell_type": "code",
   "execution_count": null,
   "metadata": {},
   "outputs": [],
   "source": []
  },
  {
   "cell_type": "code",
   "execution_count": null,
   "metadata": {},
   "outputs": [],
   "source": []
  },
  {
   "cell_type": "markdown",
   "metadata": {},
   "source": [
    "# Appendix"
   ]
  },
  {
   "cell_type": "code",
   "execution_count": null,
   "metadata": {},
   "outputs": [],
   "source": []
  },
  {
   "cell_type": "code",
   "execution_count": null,
   "metadata": {},
   "outputs": [],
   "source": []
  },
  {
   "cell_type": "code",
   "execution_count": null,
   "metadata": {},
   "outputs": [],
   "source": [
    "# # Under dev:\n",
    "# ## PRS-CS\n",
    "# np.random.seed(random_state+3)\n",
    "# w = np.random.randn(n_snps)*np.sqrt(h2/n_snps)\n",
    "# effects_df['ridge'] = w\n",
    "# Xw = X.dot(w)\n",
    "# e  = np.random.randn(n_samps)*np.sqrt(1-h2)\n",
    "# y  = Xw + e\n",
    "# pheno_df['ridge'] = y\n",
    "# print(Xw.var())\n",
    "# print(y.std())"
   ]
  },
  {
   "cell_type": "code",
   "execution_count": null,
   "metadata": {},
   "outputs": [],
   "source": []
  },
  {
   "cell_type": "code",
   "execution_count": null,
   "metadata": {},
   "outputs": [],
   "source": [
    "# # Generation of a Phenotype object, this saves to disk nicely:\n",
    "# # Dont be confused by the fact that it is a SnpData object, there is no SNP data in it. (we are working with labels y now and not with X=genetics)\n",
    "# dt = dict(header=pheno_df.columns,vals=pheno_df.values,iid=pheno_df.index.to_frame().values)\n",
    "# dt['iid'] = np.array(dt['iid'], dtype=str)\n",
    "# sim_prd =  Pheno(dt)\n",
    "# sim_pda =  sim_prd.read()\n",
    "# # print('Have a look at the output of sim_pda, to check:')\n",
    "# # sim_pda"
   ]
  },
  {
   "cell_type": "code",
   "execution_count": null,
   "metadata": {},
   "outputs": [],
   "source": [
    "# # Creating trn, val & tst splits:\n",
    "# np.random.seed(random_state+12)\n",
    "# # Since all samples are generated randomly no shuffling needed:\n",
    "# all_idx = np.arange(len(sim_sda.iid))[:(n_trn+n_val+n_tst)] \n",
    "# trn_idx = all_idx[:n_trn];                        trn_iids = sim_sda.iid[trn_idx]\n",
    "# val_idx = all_idx[n_trn:n_trn+n_val];             val_iids = sim_sda.iid[val_idx]\n",
    "# tst_idx = all_idx[n_trn+n_val:n_trn+n_val+n_tst]; tst_iids = sim_sda.iid[tst_idx]"
   ]
  },
  {
   "cell_type": "code",
   "execution_count": null,
   "metadata": {},
   "outputs": [],
   "source": []
  },
  {
   "cell_type": "code",
   "execution_count": 292,
   "metadata": {},
   "outputs": [],
   "source": [
    "# # Write all simulated data to ./data/\n",
    "# idx_dt = dict(train=trn_iids, valid=val_iids, test=tst_iids)\n",
    "# for pheno_name in pheno_df.columns:\n",
    "#     for key, cur_iids in idx_dt.items():\n",
    "#         cur_prd = sim_prd[:,sim_prd.sid_to_index([pheno_name])]\n",
    "#         cur_pda = cur_prd[cur_prd.iid_to_index(cur_iids),:].read()\n",
    "#         fn = base_fn + f'{pheno_name}.{key}'\n",
    "#         print(f'saving: {fn}')\n",
    "#         Pheno.write(fn, cur_pda)"
   ]
  },
  {
   "cell_type": "code",
   "execution_count": 50,
   "metadata": {},
   "outputs": [],
   "source": [
    "# pearsonr(Xw,y)[0]**2\n",
    "# np.unique(pheno_df.index.get_level_values('FID')).shape\n",
    "# (effects_df['spike_slab']!=0).sum()\n",
    "# np.unique(pheno_df.index.get_level_values('FID')).shape"
   ]
  },
  {
   "cell_type": "code",
   "execution_count": null,
   "metadata": {},
   "outputs": [],
   "source": []
  }
 ],
 "metadata": {
  "kernelspec": {
   "display_name": "Python 3",
   "language": "python",
   "name": "python3"
  },
  "language_info": {
   "codemirror_mode": {
    "name": "ipython",
    "version": 3
   },
   "file_extension": ".py",
   "mimetype": "text/x-python",
   "name": "python",
   "nbconvert_exporter": "python",
   "pygments_lexer": "ipython3",
   "version": "3.7.6"
  },
  "toc": {
   "base_numbering": 1,
   "nav_menu": {},
   "number_sections": true,
   "sideBar": true,
   "skip_h1_title": false,
   "title_cell": "Table of Contents",
   "title_sidebar": "Contents",
   "toc_cell": false,
   "toc_position": {
    "height": "calc(100% - 180px)",
    "left": "10px",
    "top": "150px",
    "width": "394.09px"
   },
   "toc_section_display": true,
   "toc_window_display": true
  }
 },
 "nbformat": 4,
 "nbformat_minor": 4
}
