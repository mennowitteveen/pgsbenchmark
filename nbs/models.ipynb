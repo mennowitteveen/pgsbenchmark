{
 "cells": [
  {
   "cell_type": "code",
   "execution_count": null,
   "metadata": {},
   "outputs": [],
   "source": []
  },
  {
   "cell_type": "code",
   "execution_count": null,
   "metadata": {},
   "outputs": [],
   "source": []
  },
  {
   "cell_type": "code",
   "execution_count": null,
   "metadata": {},
   "outputs": [],
   "source": []
  },
  {
   "cell_type": "code",
   "execution_count": null,
   "metadata": {},
   "outputs": [],
   "source": []
  },
  {
   "cell_type": "code",
   "execution_count": null,
   "metadata": {},
   "outputs": [],
   "source": []
  },
  {
   "cell_type": "code",
   "execution_count": null,
   "metadata": {},
   "outputs": [],
   "source": []
  },
  {
   "cell_type": "code",
   "execution_count": null,
   "metadata": {},
   "outputs": [],
   "source": []
  },
  {
   "cell_type": "markdown",
   "metadata": {},
   "source": [
    "# Something"
   ]
  },
  {
   "cell_type": "code",
   "execution_count": null,
   "metadata": {},
   "outputs": [],
   "source": []
  },
  {
   "cell_type": "markdown",
   "metadata": {},
   "source": [
    "## Def"
   ]
  },
  {
   "cell_type": "code",
   "execution_count": 4,
   "metadata": {},
   "outputs": [],
   "source": [
    "%config Completer.use_jedi = False"
   ]
  },
  {
   "cell_type": "code",
   "execution_count": 1,
   "metadata": {},
   "outputs": [
    {
     "name": "stdout",
     "output_type": "stream",
     "text": [
      "Overwriting ../pgsbenchmark/models.py\n"
     ]
    }
   ],
   "source": [
    "%%writefile ../pgsbenchmark/models.py\n",
    "#!/usr/bin/env python\n",
    "\n",
    "\"\"\"\n",
    "L2Pred\n",
    "LambdaPred\n",
    "\n",
    "\"\"\"\n",
    "\n",
    "import copy, time, warnings\n",
    "import scipy as sp\n",
    "import numpy as np\n",
    "from scipy import linalg\n",
    "from collections import OrderedDict, defaultdict\n",
    "\n",
    "\n",
    "class BasePred():\n",
    "    \n",
    "    def _checktype(self, obj, classnames):\n",
    "        if not (type(obj).__name__ in list(classnames)): raise TypeError(f'{type(obj)} not allowed as linkdata input. Must be {classnames}')        \n",
    "    \n",
    "    def _order(self, input_lst):\n",
    "        assert type(input_lst) is list\n",
    "        if self.shuffle:\n",
    "            return input_lst[np.random.permutation(len(input_lst))]\n",
    "        else:\n",
    "            return input_lst\n",
    "        \n",
    "    def _return_stddev(self, _stansda):\n",
    "        _stddev = _stansda.stats[:,1][:,np.newaxis]\n",
    "        if np.any(np.isinf(_stddev)): warnings.warn('inf value detected in standardizer. implies maf=0')\n",
    "        _stddev[np.isinf(_stddev)] = 1\n",
    "        return _stddev\n",
    "    \n",
    "    def predict(self, *, srd, n_inchunk=1000, stansda=None):\n",
    "        if self.verbose: print('predicting for given srd:')\n",
    "        beta = np.array(self.beta_est).flatten()\n",
    "        if stansda is None:\n",
    "            stansda = self.stansda\n",
    "        if (stansda is None) and (self.stansda is None)  :\n",
    "            stansda = self.linkdata.get_combined_unit_stansda()\n",
    "        assert len(beta) == srd.shape[1]\n",
    "        start=0; y_pred_lst = [];\n",
    "        for j in range(0, srd.shape[1]+n_inchunk, n_inchunk)[1:]:\n",
    "            stop = min(j, srd.shape[1])\n",
    "            print('chunk of start:stop=',start, stop, end='\\r') if self.verbose else None\n",
    "            slice_srd = srd[:,start:stop]\n",
    "            sda = slice_srd.read().standardize(stansda)\n",
    "            assert np.all(sda.sid == slice_srd.sid)\n",
    "            y_pred_lst.append(sda.val.dot(beta[start:stop]))\n",
    "            start = stop\n",
    "        y_pred = np.vstack(y_pred_lst).sum(axis=0)\n",
    "        self.iid_pred = copy.copy(srd.iid)\n",
    "        self.y_pred = y_pred\n",
    "        return y_pred\n",
    "    \n",
    "\n",
    "class L2Pred(BasePred):\n",
    "    \n",
    "    def __init__(self, linkdata, *, h2, n_iter=1, \n",
    "                 random_state=None, shuffle=False,\n",
    "                 local_rm=False, \n",
    "                 clear_linkdata=True,\n",
    "                 verbose=False):\n",
    "        \n",
    "        # Stuff all the args into fields.\n",
    "        _excl_lst = ['self', 'kwg_dt']\n",
    "        kwg_dt = {key: item for key, item in locals().items() if not (key in _excl_lst)}\n",
    "        for key, item in locals().items():\n",
    "            if not (key in _excl_lst): \n",
    "                self.__setattr__(key, item)\n",
    "\n",
    "        # Checks:\n",
    "        self._checktype(linkdata, 'LinkageData')\n",
    "        assert type(h2) is float\n",
    "    \n",
    "    def get_weights(self, return_frame=True):\n",
    "        if not return_frame: raise NotImplementedError('contact dev') \n",
    "        weights = self._sst_df.copy()\n",
    "        weights['weight'] = self._weights\n",
    "        return weights\n",
    "    \n",
    "    def _compute_cur_beta_tilde(self, *, beta, i_reg, linkdata):\n",
    "        \n",
    "        beta_tilde = linkdata.get_beta_marginal_region(i=i_reg)\n",
    "        \n",
    "        if self.local_rm:\n",
    "            # RM\n",
    "            True\n",
    "            \n",
    "        return beta_tilde\n",
    "    \n",
    "    \n",
    "    def fit(self): return self.sample()\n",
    "    \n",
    "    def sample(self):\n",
    "        \n",
    "        s=self; \n",
    "        tpl=s.n_iter, s.verbose, s.h2, s.linkdata # Could have a code reading function here..\n",
    "        (     n_iter,   verbose,   h2,   linkdata) = tpl\n",
    "        \n",
    "        beta_mrg = linkdata.get_beta_marginal()\n",
    "        p        = len(beta_mrg)\n",
    "        sst_df   = linkdata.get_sumstats_cur()\n",
    "        n_eff    = sst_df['n_eff'].median()\n",
    "        i_lst    = linkdata.get_i_list()\n",
    "        assert linkdata.n_snps_total == p\n",
    "        \n",
    "        # Random state & Shuffling:\n",
    "        if self.random_state != None:\n",
    "            np.random.seed(self.random_state)\n",
    "    \n",
    "        # Initalisations:\n",
    "        beta  = np.zeros((p,1))\n",
    "        \n",
    "        # Sampling Loops:\n",
    "        if verbose: print('Starting iterations of Sampler:')\n",
    "        for itr in range(n_iter):\n",
    "            \n",
    "            for i_reg in self._order(i_lst):\n",
    "                do_show = ((i_reg % 10 == 0) | (i_reg<10)) & verbose\n",
    "                if do_show: print(f'-> itr={itr}, i_reg={i_reg} <-  ', end='\\r')\n",
    "\n",
    "                # Old logistical stuff:\n",
    "                D = linkdata.get_auto_linkage_region(i=i_reg)\n",
    "                p_reg = len(D); assert p_reg > 0 # I think this is not needed anymore.\n",
    "                idx_reg = range(*linkdata.get_auto_range_region(i=i_reg))\n",
    "                \n",
    "                # RM:\n",
    "                beta_tilde = self._compute_cur_beta_tilde(beta=beta, \n",
    "                                                                i_reg=i_reg, linkdata=linkdata)\n",
    "\n",
    "                # Sample beta from MVN:\n",
    "                tau = p/(n_eff*h2)\n",
    "                beta_i = linalg.solve(D + tau*np.eye(p_reg), beta_tilde)\n",
    "                beta[idx_reg] = beta_i\n",
    "                \n",
    "        \n",
    "        # Post proc & storage:\n",
    "        self.stansda = linkdata.get_stansda()\n",
    "        _stddev = self._return_stddev(self.stansda)\n",
    "        self._weights = beta/_stddev\n",
    "        self._stddev  = _stddev\n",
    "        self._sst_df  = sst_df\n",
    "        if self.clear_linkdata: del self.linkdata\n",
    "\n",
    "        if verbose: print('----- Done with Sampling -----')\n",
    "            \n",
    "        return self\n",
    "\n",
    "class LambdaPred(BasePred):\n",
    "    pass\n"
   ]
  },
  {
   "cell_type": "code",
   "execution_count": null,
   "metadata": {},
   "outputs": [],
   "source": []
  },
  {
   "cell_type": "code",
   "execution_count": 9,
   "metadata": {},
   "outputs": [],
   "source": [
    "%run ../pgsbenchmark/models.py"
   ]
  },
  {
   "cell_type": "code",
   "execution_count": null,
   "metadata": {},
   "outputs": [],
   "source": []
  },
  {
   "cell_type": "code",
   "execution_count": null,
   "metadata": {},
   "outputs": [],
   "source": []
  },
  {
   "cell_type": "markdown",
   "metadata": {},
   "source": [
    "## Tests"
   ]
  },
  {
   "cell_type": "code",
   "execution_count": null,
   "metadata": {},
   "outputs": [],
   "source": []
  },
  {
   "cell_type": "code",
   "execution_count": null,
   "metadata": {},
   "outputs": [],
   "source": []
  },
  {
   "cell_type": "code",
   "execution_count": null,
   "metadata": {},
   "outputs": [],
   "source": []
  },
  {
   "cell_type": "markdown",
   "metadata": {},
   "source": [
    "# Appendix"
   ]
  },
  {
   "cell_type": "code",
   "execution_count": null,
   "metadata": {},
   "outputs": [],
   "source": []
  },
  {
   "cell_type": "code",
   "execution_count": null,
   "metadata": {},
   "outputs": [],
   "source": []
  }
 ],
 "metadata": {
  "kernelspec": {
   "display_name": "Python 3",
   "language": "python",
   "name": "python3"
  },
  "language_info": {
   "codemirror_mode": {
    "name": "ipython",
    "version": 3
   },
   "file_extension": ".py",
   "mimetype": "text/x-python",
   "name": "python",
   "nbconvert_exporter": "python",
   "pygments_lexer": "ipython3",
   "version": "3.7.6"
  },
  "toc": {
   "base_numbering": 1,
   "nav_menu": {},
   "number_sections": true,
   "sideBar": true,
   "skip_h1_title": false,
   "title_cell": "Table of Contents",
   "title_sidebar": "Contents",
   "toc_cell": false,
   "toc_position": {
    "height": "calc(100% - 180px)",
    "left": "10px",
    "top": "150px",
    "width": "302.1px"
   },
   "toc_section_display": true,
   "toc_window_display": true
  }
 },
 "nbformat": 4,
 "nbformat_minor": 4
}
