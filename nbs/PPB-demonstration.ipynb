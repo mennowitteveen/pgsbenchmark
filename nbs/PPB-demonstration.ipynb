{
 "cells": [
  {
   "cell_type": "code",
   "execution_count": null,
   "metadata": {},
   "outputs": [],
   "source": []
  },
  {
   "cell_type": "code",
   "execution_count": 1,
   "metadata": {},
   "outputs": [],
   "source": []
  },
  {
   "cell_type": "code",
   "execution_count": null,
   "metadata": {},
   "outputs": [],
   "source": [
    "# Run this cell if you are running this on google collab:\n",
    "%cd /content/\n",
    "!git clone https://github.com/mennowitteveen/pgsbenchmark.git\n",
    "#!git -C ./pgsbenchmark/ checkout dev\n",
    "%cd pgsbenchmark/nbs\n",
    "!ls\n",
    "!pip install pysnptools -q -q"
   ]
  },
  {
   "cell_type": "code",
   "execution_count": 1,
   "metadata": {},
   "outputs": [
    {
     "name": "stdout",
     "output_type": "stream",
     "text": [
      "\u001b[31mERROR: Invalid requirement: 'pysnptools,'\u001b[0m\r\n"
     ]
    }
   ],
   "source": [
    "# Run this cell if you are running this via the \"binder\" github link:\n",
    "!pip install pysnptools \n",
    "!pip install matplotlib"
   ]
  },
  {
   "cell_type": "markdown",
   "metadata": {},
   "source": [
    "# Imports"
   ]
  },
  {
   "cell_type": "code",
   "execution_count": null,
   "metadata": {},
   "outputs": [],
   "source": []
  },
  {
   "cell_type": "code",
   "execution_count": 2,
   "metadata": {},
   "outputs": [],
   "source": [
    "%config Completer.use_jedi = False\n",
    "########################################################\n",
    "## Base Imports:\n",
    "\n",
    "# Sys Imports:\n",
    "import time, sys, os\n",
    "\n",
    "# Standard Imports:\n",
    "import numpy as np\n",
    "import scipy as sp\n",
    "import pandas as pd\n",
    "# import seaborn as sns\n",
    "import matplotlib.pyplot as plt\n",
    "from scipy import stats, linalg\n",
    "\n",
    "#########################################################\n",
    "## Experiment Specific Imports\n",
    "\n",
    "# Basic Imports:\n",
    "import inspect, glob, re, contextlib, pickle, functools #,submitit #pyreadr\n",
    "from tqdm.auto import tqdm\n",
    "from concurrent.futures import ThreadPoolExecutor, ProcessPoolExecutor\n",
    "# from mjwt.tools import jobinfo, corr, implot, sizegb, psrc, beep, Timer, Struct as mStruct\n",
    "from scipy.stats import pearsonr, spearmanr\n",
    "\n",
    "# Genomics Imports:\n",
    "import pysnptools as pst\n",
    "from pysnptools.snpreader import Bed, Pheno, SnpHdf5, SnpData\n",
    "from pysnptools.pstreader import PstData, PstHdf5, PstReader\n",
    "\n",
    "# PGSBenchmark Code:\n",
    "%run ../pgsbenchmark/loaders.py\n",
    "%run ../pgsbenchmark/scores.py\n",
    "%run ../pgsbenchmark/tools.py\n",
    "\n",
    "########################################################\n",
    "## Configuration & Initialisation\n",
    "\n",
    "# Display Configuration:\n",
    "from IPython.display import set_matplotlib_formats, display #, HTML, Audio, Javascript\n",
    "plt.rcParams['figure.figsize'] = [10, 5]\n",
    "pd.set_option('max_colwidth', 200) \n",
    "# pd.set_option('display.max_colwidth', None) # No pd trunkation (radical)\n",
    "# display(HTML(\"<style>.container { width:75% !important; }</style>\"))\n",
    "# pd.reset_option('all')\n",
    "\n",
    "# Initializations & Extensions:\n",
    "timer = Timer(); toc = timer.toc; tic = timer.tic; tic(''); log=np.log10\n",
    "notebook = False  if '__file__' in locals() else True\n",
    "with contextlib.suppress(BaseException): # non-essential import for development.\n",
    "    get_ipython().run_line_magic('load_ext', 'line_profiler')"
   ]
  },
  {
   "cell_type": "code",
   "execution_count": null,
   "metadata": {},
   "outputs": [],
   "source": []
  },
  {
   "cell_type": "markdown",
   "metadata": {},
   "source": [
    "# Experiment Setup"
   ]
  },
  {
   "cell_type": "code",
   "execution_count": 80,
   "metadata": {},
   "outputs": [],
   "source": [
    "# Load Genotype data:\n",
    "dtype='float64'\n",
    "# data_dn = '/home/jovyan/proj/data/'\n",
    "data_dn = '../pgsbenchmark/data/'\n",
    "\n",
    "# Load SNPs filter list & region definition:\n",
    "srd            = Bed(data_dn+'mini/mini.bed', count_A1=True) # SnpReader (srd)\n",
    "bim_df, fam_df = load_bimfam(data_dn+'mini/mini.bed') # pandas DataFrames of .bim & .fam files (= plink files)\n",
    "pheno_df       = pd.read_csv(data_dn+'mini/pheno_df.csv').set_index(['FID','IID']); # dataframe with phenotypes\n",
    "effects_df     = pd.read_csv(data_dn+'mini/effects_df.csv').set_index(['snp']); # dataframe with genetic effects (aka. the true weights)\n",
    "regdef_df      = pd.read_csv(data_dn+'defs/regdef/regions_1blk_shift=0.regdef.tsv', delimiter='\\t') # dataframe with region definitions\n",
    "\n",
    "# Basic preprocessing into forms that are accepted by code below:\n",
    "prd =  Pheno(dict(header=pheno_df.columns, # Initiation of phenotype object\n",
    "                  vals=pheno_df.values,\n",
    "                  iid=pheno_df.index.to_frame().astype(str).values.astype(dtype=str)))\n",
    "snpids     = effects_df.index.values.astype(str) # snp id's which are rs id's in this case\n",
    "pgsname    = effects_df.columns # name of the effect\n",
    "pgsweights = effects_df.values.T # in this experiment we set the pgs weights equal to the true genetic weights.\n",
    "brd        = pst.pstreader.PstData(row=pgsname, col=snpids, val=pgsweights) # creation of PGS weight object\n",
    "# The creation of object for snp's, phenotypes and PGS-weights (srd, prd, brd) is useful because all these types\n",
    "# are implicit. When data is small this does not add much, but when data is large this becomes very beneficial."
   ]
  },
  {
   "cell_type": "code",
   "execution_count": null,
   "metadata": {},
   "outputs": [],
   "source": [
    "# %run ../pgsbenchmark/loaders.py\n",
    "# %run ../pgsbenchmark/scores.py\n",
    "# %run ../pgsbenchmark/tools.py"
   ]
  },
  {
   "cell_type": "code",
   "execution_count": null,
   "metadata": {},
   "outputs": [],
   "source": []
  },
  {
   "cell_type": "markdown",
   "metadata": {},
   "source": [
    "# Basic Functionality"
   ]
  },
  {
   "cell_type": "code",
   "execution_count": null,
   "metadata": {},
   "outputs": [],
   "source": []
  },
  {
   "cell_type": "code",
   "execution_count": 73,
   "metadata": {},
   "outputs": [
    {
     "data": {
      "application/vnd.jupyter.widget-view+json": {
       "model_id": "d2eecdce9b864cc9b61e5c43c5cfdf22",
       "version_major": 2,
       "version_minor": 0
      },
      "text/plain": [
       "HBox(children=(FloatProgress(value=0.0, max=5.0), HTML(value='')))"
      ]
     },
     "metadata": {},
     "output_type": "display_data"
    },
    {
     "name": "stdout",
     "output_type": "stream",
     "text": [
      "\n"
     ]
    }
   ],
   "source": [
    "## Do individual-level (=normal) approach for performance estimation:\n",
    "\n",
    "# Create Multi PGS Computing object and make predictions:\n",
    "mpc = MultiPGSComputer(verbose=False, brd=brd, dtype=dtype)\n",
    "multi_dt = mpc.predict(srd=srd, prd=prd) # If one supplies prd (=phenotyes) it also computes sumstats.\n",
    "\n",
    "# Compute Performance correlation pheno & predictions and square:\n",
    "indr2_df = pheno_df.corrwith(multi_dt['Yhat']).to_frame().T**2\n"
   ]
  },
  {
   "cell_type": "code",
   "execution_count": 74,
   "metadata": {},
   "outputs": [
    {
     "name": "stderr",
     "output_type": "stream",
     "text": [
      "/home/jovyan/proj/repos/pgsbenchmark/pgsbenchmark/loaders.py:122: UserWarning: No 'beta_mrg' column detected in sst_df! This means that no summary stats were detected.\n",
      "  warnings.warn('No \\'beta_mrg\\' column detected in sst_df! This means that no summary stats were detected.')\n"
     ]
    },
    {
     "data": {
      "application/vnd.jupyter.widget-view+json": {
       "model_id": "6cce17bb40be44f5ba74294c5852bd14",
       "version_major": 2,
       "version_minor": 0
      },
      "text/plain": [
       "HBox(children=(FloatProgress(value=0.0, max=11.0), HTML(value='')))"
      ]
     },
     "metadata": {},
     "output_type": "display_data"
    },
    {
     "name": "stdout",
     "output_type": "stream",
     "text": [
      "\n",
      "The results (R^2) for the individual-level and privacy-preserving approach match up perfectly.\n"
     ]
    },
    {
     "data": {
      "text/html": [
       "<div>\n",
       "<style scoped>\n",
       "    .dataframe tbody tr th:only-of-type {\n",
       "        vertical-align: middle;\n",
       "    }\n",
       "\n",
       "    .dataframe tbody tr th {\n",
       "        vertical-align: top;\n",
       "    }\n",
       "\n",
       "    .dataframe thead th {\n",
       "        text-align: right;\n",
       "    }\n",
       "</style>\n",
       "<table border=\"1\" class=\"dataframe\">\n",
       "  <thead>\n",
       "    <tr style=\"text-align: right;\">\n",
       "      <th></th>\n",
       "      <th>spike_slab</th>\n",
       "      <th>laplace</th>\n",
       "      <th>ridge</th>\n",
       "    </tr>\n",
       "  </thead>\n",
       "  <tbody>\n",
       "    <tr>\n",
       "      <th>indr2</th>\n",
       "      <td>0.384197</td>\n",
       "      <td>0.401929</td>\n",
       "      <td>0.412574</td>\n",
       "    </tr>\n",
       "    <tr>\n",
       "      <th>ppbr2</th>\n",
       "      <td>0.384197</td>\n",
       "      <td>0.401929</td>\n",
       "      <td>0.412574</td>\n",
       "    </tr>\n",
       "  </tbody>\n",
       "</table>\n",
       "</div>"
      ],
      "text/plain": [
       "       spike_slab   laplace     ridge\n",
       "indr2    0.384197  0.401929  0.412574\n",
       "ppbr2    0.384197  0.401929  0.412574"
      ]
     },
     "metadata": {},
     "output_type": "display_data"
    }
   ],
   "source": [
    "## Do the Privacy Preserving Benchmark Approach:\n",
    "\n",
    "# Init LinkageData:\n",
    "linkdata = LinkageData(sst_df=bim_df, srd=srd, regdef_df=regdef_df, shift=10, dtype=dtype,\n",
    "                       _cross_chrom_ld=True) # Mind! _cross_chrom_ld=True lets this object calculate \"LD\" between chromosomes. \n",
    "                                             # This allows the full D matrix to be computed (D=X'*X/N, see manuscript for more info)\n",
    "# linkdata.retrieve_linkage_allregions() # Retrieve (= computer or load, depending on whats available) all LD for all regions.\n",
    "ppmc      = PrivacyPreservingMetricsComputer(linkdata=linkdata, # <-- The LD information\n",
    "                                             brd=brd,           # <-- The PGS prediction weights\n",
    "                                             Bm=multi_dt['Bm'], # <-- GWAS summary statistics in the form of a\n",
    "                                             clear_linkage=False, dtype=dtype)\n",
    "ppbres_dt = ppmc.evaluate() # Actually perform the privacy preserving performance metrics\n",
    "fullppbr2_df  = ppbres_dt['ppbr2_df']\n",
    "# Next line is needed because fullppbr2_df contains R^2 of all PGS vs all traits (from GWAS sumstats):\n",
    "ppbr2_df = pd.DataFrame([fullppbr2_df.values.diagonal()], columns=fullppbr2_df.columns)\n",
    "\n",
    "# Display results:\n",
    "assert np.allclose(indr2_df, ppbr2_df) # A check that ppb and induv. r2 are practically identifcal.\n",
    "print('The results (R^2) for the individual-level and privacy-preserving approach match up perfectly.')\n",
    "r2_df = pd.DataFrame.from_dict(dict( # Putting the results together into one pandas dataframe.\n",
    "    indr2=indr2_df.loc[0], \n",
    "    ppbr2=ppbr2_df.loc[0]), orient='index')\n",
    "display(r2_df)"
   ]
  },
  {
   "cell_type": "code",
   "execution_count": 18,
   "metadata": {},
   "outputs": [],
   "source": [
    "# The results matching up exactly is what one expects from the PPB math and thus reassuring.\n",
    "# This is only going to be the case for a full covariance matrix D (=X'*X/n)"
   ]
  },
  {
   "cell_type": "code",
   "execution_count": null,
   "metadata": {},
   "outputs": [],
   "source": []
  },
  {
   "cell_type": "code",
   "execution_count": null,
   "metadata": {},
   "outputs": [],
   "source": []
  },
  {
   "cell_type": "markdown",
   "metadata": {},
   "source": [
    "# Small Experiment with LD window"
   ]
  },
  {
   "cell_type": "code",
   "execution_count": null,
   "metadata": {},
   "outputs": [],
   "source": []
  },
  {
   "cell_type": "code",
   "execution_count": 121,
   "metadata": {},
   "outputs": [
    {
     "name": "stderr",
     "output_type": "stream",
     "text": [
      "/home/jovyan/proj/repos/pgsbenchmark/pgsbenchmark/loaders.py:122: UserWarning: No 'beta_mrg' column detected in sst_df! This means that no summary stats were detected.\n",
      "  warnings.warn('No \\'beta_mrg\\' column detected in sst_df! This means that no summary stats were detected.')\n"
     ]
    },
    {
     "name": "stdout",
     "output_type": "stream",
     "text": [
      "Retrieving Standard Dev. var 's'\n"
     ]
    },
    {
     "data": {
      "application/vnd.jupyter.widget-view+json": {
       "model_id": "5b9a01ebf54e472b9583a3bd0621f72c",
       "version_major": 2,
       "version_minor": 0
      },
      "text/plain": [
       "HBox(children=(FloatProgress(value=0.0, max=11.0), HTML(value='')))"
      ]
     },
     "metadata": {},
     "output_type": "display_data"
    },
    {
     "name": "stdout",
     "output_type": "stream",
     "text": [
      "\n",
      "The results (R^2) for the individual-level and privacy-preserving approach with a % difference. The difference is expected for this small experiment (n=503)\n"
     ]
    },
    {
     "data": {
      "text/html": [
       "<div>\n",
       "<style scoped>\n",
       "    .dataframe tbody tr th:only-of-type {\n",
       "        vertical-align: middle;\n",
       "    }\n",
       "\n",
       "    .dataframe tbody tr th {\n",
       "        vertical-align: top;\n",
       "    }\n",
       "\n",
       "    .dataframe thead th {\n",
       "        text-align: right;\n",
       "    }\n",
       "</style>\n",
       "<table border=\"1\" class=\"dataframe\">\n",
       "  <thead>\n",
       "    <tr style=\"text-align: right;\">\n",
       "      <th></th>\n",
       "      <th>spike_slab</th>\n",
       "      <th>laplace</th>\n",
       "      <th>ridge</th>\n",
       "    </tr>\n",
       "  </thead>\n",
       "  <tbody>\n",
       "    <tr>\n",
       "      <th>indr2</th>\n",
       "      <td>0.384197</td>\n",
       "      <td>0.401929</td>\n",
       "      <td>0.412574</td>\n",
       "    </tr>\n",
       "    <tr>\n",
       "      <th>ppbr2</th>\n",
       "      <td>0.396791</td>\n",
       "      <td>0.393395</td>\n",
       "      <td>0.403902</td>\n",
       "    </tr>\n",
       "    <tr>\n",
       "      <th>%</th>\n",
       "      <td>3.278133</td>\n",
       "      <td>-2.123201</td>\n",
       "      <td>-2.101988</td>\n",
       "    </tr>\n",
       "  </tbody>\n",
       "</table>\n",
       "</div>"
      ],
      "text/plain": [
       "       spike_slab   laplace     ridge\n",
       "indr2    0.384197  0.401929  0.412574\n",
       "ppbr2    0.396791  0.393395  0.403902\n",
       "%        3.278133 -2.123201 -2.101988"
      ]
     },
     "metadata": {},
     "output_type": "display_data"
    }
   ],
   "source": [
    "## Do the Privacy Preserving Benchmark Approach with LD window:\n",
    "\n",
    "# Init LinkageData:\n",
    "linkdata = LinkageData(sst_df=bim_df, srd=srd, regdef_df=regdef_df, cm=6.0, dtype=dtype)\n",
    "ppmc      = PrivacyPreservingMetricsComputer(linkdata=linkdata, # <-- The LD information\n",
    "                                             brd=brd,           # <-- The PGS prediction weights\n",
    "                                             Bm=multi_dt['Bm'], # <-- GWAS summary statistics in the form of a\n",
    "                                             clear_linkage=False, dtype=dtype)\n",
    "ppbres_dt = ppmc.evaluate()\n",
    "fullppbr2_df  = ppbres_dt['ppbr2_df']\n",
    "ppbr2_df = pd.DataFrame([fullppbr2_df.values.diagonal()], columns=fullppbr2_df.columns)\n",
    "\n",
    "# Display results:\n",
    "print('The results (R^2) for the individual-level and privacy-preserving approach with a % difference. The difference is expected for this small experiment (n=503)')\n",
    "r2_df = pd.DataFrame.from_dict(dict( # Putting the results together into one pandas dataframe.\n",
    "    indr2=indr2_df.loc[0], \n",
    "    ppbr2=ppbr2_df.loc[0]), orient='index')\n",
    "r2_df.loc['%'] = ((r2_df.loc['ppbr2']/r2_df.loc['indr2']-1)*100) # % difference\n",
    "display(r2_df)"
   ]
  },
  {
   "cell_type": "code",
   "execution_count": null,
   "metadata": {},
   "outputs": [],
   "source": []
  },
  {
   "cell_type": "code",
   "execution_count": null,
   "metadata": {},
   "outputs": [],
   "source": []
  },
  {
   "cell_type": "code",
   "execution_count": 117,
   "metadata": {},
   "outputs": [],
   "source": []
  },
  {
   "cell_type": "code",
   "execution_count": null,
   "metadata": {},
   "outputs": [],
   "source": []
  },
  {
   "cell_type": "code",
   "execution_count": null,
   "metadata": {},
   "outputs": [],
   "source": []
  },
  {
   "cell_type": "code",
   "execution_count": 28,
   "metadata": {},
   "outputs": [],
   "source": []
  },
  {
   "cell_type": "code",
   "execution_count": null,
   "metadata": {},
   "outputs": [],
   "source": []
  },
  {
   "cell_type": "markdown",
   "metadata": {},
   "source": [
    "# Appendix\n",
    "\n",
    "A code scratchpad"
   ]
  },
  {
   "cell_type": "code",
   "execution_count": null,
   "metadata": {},
   "outputs": [],
   "source": []
  },
  {
   "cell_type": "code",
   "execution_count": null,
   "metadata": {},
   "outputs": [],
   "source": [
    "# p = linkdata.n_snps_total\n",
    "# M = np.random.randn(p,p)"
   ]
  },
  {
   "cell_type": "code",
   "execution_count": 49,
   "metadata": {},
   "outputs": [],
   "source": [
    "# # !pip freeze > /home/jovyan/proj/docker/jupyter-base-ds/requirements.txt\n",
    "# !pip freeze | grep -v 'mennowitteveen' > ~/proj/docker/jupyter-base-ds/requirements.txt\n",
    "# !git config --global user.email \"\" \n",
    "# !git config --global user.name  \"Menno Witteveen\"\n",
    "# !git -C /home/jovyan/proj/docker/jupyter-base-ds/ add requirements.txt\n",
    "# !git -C /home/jovyan/proj/docker/jupyter-base-ds/ status\n",
    "# !git -C /home/jovyan/proj/docker/jupyter-base-ds/ commit -m \"update req.txt\"\n",
    "\n",
    "# cd ~/proj/docker/jupyter-base-ds\n",
    "# docker build --rm -t mennowitteveen/my-datascience-notebook-1 .\n"
   ]
  },
  {
   "cell_type": "code",
   "execution_count": 5,
   "metadata": {},
   "outputs": [],
   "source": [
    "!pip freeze | grep -v mennowitteveen > ../requirements.txt"
   ]
  },
  {
   "cell_type": "code",
   "execution_count": null,
   "metadata": {},
   "outputs": [],
   "source": []
  },
  {
   "cell_type": "code",
   "execution_count": null,
   "metadata": {},
   "outputs": [],
   "source": []
  },
  {
   "cell_type": "code",
   "execution_count": null,
   "metadata": {},
   "outputs": [],
   "source": []
  }
 ],
 "metadata": {
  "kernelspec": {
   "display_name": "Python 3",
   "language": "python",
   "name": "python3"
  },
  "language_info": {
   "codemirror_mode": {
    "name": "ipython",
    "version": 3
   },
   "file_extension": ".py",
   "mimetype": "text/x-python",
   "name": "python",
   "nbconvert_exporter": "python",
   "pygments_lexer": "ipython3",
   "version": "3.7.6"
  },
  "toc": {
   "base_numbering": 1,
   "nav_menu": {},
   "number_sections": true,
   "sideBar": true,
   "skip_h1_title": false,
   "title_cell": "Table of Contents",
   "title_sidebar": "Contents",
   "toc_cell": false,
   "toc_position": {
    "height": "calc(100% - 180px)",
    "left": "10px",
    "top": "150px",
    "width": "254.098px"
   },
   "toc_section_display": true,
   "toc_window_display": true
  }
 },
 "nbformat": 4,
 "nbformat_minor": 4
}
