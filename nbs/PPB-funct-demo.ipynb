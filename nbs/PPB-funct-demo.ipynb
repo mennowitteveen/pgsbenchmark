{
 "cells": [
  {
   "cell_type": "code",
   "execution_count": null,
   "metadata": {},
   "outputs": [],
   "source": []
  },
  {
   "cell_type": "code",
   "execution_count": null,
   "metadata": {},
   "outputs": [],
   "source": [
    "# !pip freeze > /home/jovyan/proj/docker/jupyter-base-ds/requirements.txt\n",
    "# !git config --global user.email \"\" \n",
    "# !git config --global user.name  \"Menno Witteveen\"\n",
    "# !git -C /home/jovyan/proj/docker/jupyter-base-ds/ add requirements.txt\n",
    "# # !git -C /home/jovyan/proj/docker/jupyter-base-ds/ status\n",
    "# !git -C /home/jovyan/proj/docker/jupyter-base-ds/ commit -m \"update req.txt with line_profiler\""
   ]
  },
  {
   "cell_type": "code",
   "execution_count": 27,
   "metadata": {},
   "outputs": [
    {
     "name": "stdout",
     "output_type": "stream",
     "text": [
      "The line_profiler extension is already loaded. To reload it, use:\n",
      "  %reload_ext line_profiler\n"
     ]
    }
   ],
   "source": [
    "%config Completer.use_jedi = False\n",
    "########################################################\n",
    "## Base Imports:\n",
    "\n",
    "# Sys Imports:\n",
    "import time, sys, os\n",
    "\n",
    "# Standard Imports:\n",
    "import numpy as np\n",
    "import scipy as sp\n",
    "import pandas as pd\n",
    "import seaborn as sns\n",
    "import matplotlib.pyplot as plt\n",
    "from scipy import stats, linalg\n",
    "\n",
    "#########################################################\n",
    "## Experiment Specific Imports\n",
    "\n",
    "# Logistics Imports:\n",
    "import inspect, glob, re #pyreadr # getsource()\n",
    "import pickle, submitit, tqdm, functools\n",
    "tqdm = functools.partial(tqdm.tqdm, position=0, leave=True, ncols=70, delay=0.3)\n",
    "from concurrent.futures import ThreadPoolExecutor, ProcessPoolExecutor\n",
    "from mjwt.tools import jobinfo, corr, implot, sizegb, psrc, beep, Timer, Struct as mStruct\n",
    "\n",
    "# ML Imports:\n",
    "from sklearn.metrics import r2_score, roc_auc_score\n",
    "from sklearn.model_selection import train_test_split, ParameterGrid\n",
    "from scipy.stats import pearsonr, spearmanr\n",
    "\n",
    "# Genomics Imports:\n",
    "import pysnptools as pst\n",
    "from pysnptools.snpreader import Bed, Pheno, SnpHdf5, SnpData\n",
    "from pysnptools.pstreader import PstData, PstHdf5, PstReader\n",
    "from lambdapred.utils import load_bimfam\n",
    "\n",
    "########################################################\n",
    "## Configuration & Initialisation\n",
    "\n",
    "# Display Configuration:\n",
    "from IPython.display import set_matplotlib_formats, display #, HTML, Audio, Javascript\n",
    "plt.rcParams['figure.figsize'] = [10, 5]\n",
    "pd.set_option('max_colwidth', 200) \n",
    "# pd.set_option('display.max_colwidth', None) # No pd trunkation (radical)\n",
    "# display(HTML(\"<style>.container { width:75% !important; }</style>\"))\n",
    "# pd.reset_option('all')\n",
    "\n",
    "# Initializations & Extensions:\n",
    "timer = Timer(); toc = timer.toc; tic = timer.tic; tic('')\n",
    "notebook = False  if '__file__' in locals() else True\n",
    "get_ipython().run_line_magic('load_ext', 'line_profiler')\n",
    "log=np.log10"
   ]
  },
  {
   "cell_type": "code",
   "execution_count": null,
   "metadata": {},
   "outputs": [],
   "source": []
  },
  {
   "cell_type": "code",
   "execution_count": null,
   "metadata": {},
   "outputs": [],
   "source": []
  },
  {
   "cell_type": "code",
   "execution_count": null,
   "metadata": {},
   "outputs": [],
   "source": []
  },
  {
   "cell_type": "code",
   "execution_count": null,
   "metadata": {},
   "outputs": [],
   "source": []
  },
  {
   "cell_type": "code",
   "execution_count": null,
   "metadata": {},
   "outputs": [],
   "source": []
  },
  {
   "cell_type": "code",
   "execution_count": null,
   "metadata": {},
   "outputs": [],
   "source": []
  },
  {
   "cell_type": "code",
   "execution_count": null,
   "metadata": {},
   "outputs": [],
   "source": []
  }
 ],
 "metadata": {
  "kernelspec": {
   "display_name": "Python 3",
   "language": "python",
   "name": "python3"
  },
  "language_info": {
   "codemirror_mode": {
    "name": "ipython",
    "version": 3
   },
   "file_extension": ".py",
   "mimetype": "text/x-python",
   "name": "python",
   "nbconvert_exporter": "python",
   "pygments_lexer": "ipython3",
   "version": "3.7.6"
  },
  "toc": {
   "base_numbering": 1,
   "nav_menu": {},
   "number_sections": true,
   "sideBar": true,
   "skip_h1_title": false,
   "title_cell": "Table of Contents",
   "title_sidebar": "Contents",
   "toc_cell": false,
   "toc_position": {},
   "toc_section_display": true,
   "toc_window_display": false
  }
 },
 "nbformat": 4,
 "nbformat_minor": 4
}
